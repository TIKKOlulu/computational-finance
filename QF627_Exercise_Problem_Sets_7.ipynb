{
 "cells": [
  {
   "cell_type": "markdown",
   "metadata": {},
   "source": [
    "# QF 627 Programming and Computational Finance\n",
    "## Problem-Sets for Exercise `7` | `Questions`"
   ]
  },
  {
   "cell_type": "markdown",
   "metadata": {},
   "source": [
    "> Hi, Team. 👋\n",
    "\n",
    "> The exercise questions ask you to solve three bigger questions. As with our previous exercise problem sets, while answering the questions you will be able to incorporate what you learned in class and consolidate your understanding.\n",
    "\n",
    "> Enjoy!\"🤞"
   ]
  },
  {
   "cell_type": "markdown",
   "metadata": {},
   "source": [
    "### For standardization of your answers…\n",
    "\n",
    "> Please execute the lines of code below before you start work on your answers."
   ]
  },
  {
   "cell_type": "code",
   "execution_count": 2,
   "metadata": {},
   "outputs": [],
   "source": [
    "import numpy as np\n",
    "import pandas as pd\n",
    "\n",
    "import matplotlib.pyplot as plt\n",
    "import matplotlib as mpl\n",
    "\n",
    "from pandas_datareader import data as pdr\n",
    "\n",
    "import datetime as dt\n",
    "import yfinance as yf"
   ]
  },
  {
   "cell_type": "markdown",
   "metadata": {},
   "source": [
    "> Let's set some print option."
   ]
  },
  {
   "cell_type": "code",
   "execution_count": 3,
   "metadata": {},
   "outputs": [],
   "source": [
    "np.set_printoptions(precision = 3)\n",
    "\n",
    "plt.style.use(\"ggplot\")\n",
    "\n",
    "mpl.rcParams[\"axes.grid\"] = True\n",
    "mpl.rcParams[\"grid.color\"] = \"grey\"\n",
    "mpl.rcParams[\"grid.alpha\"] = 0.25\n",
    "\n",
    "mpl.rcParams[\"axes.facecolor\"] = \"white\"\n",
    "\n",
    "mpl.rcParams[\"legend.fontsize\"] = 14"
   ]
  },
  {
   "cell_type": "code",
   "execution_count": 25,
   "metadata": {},
   "outputs": [],
   "source": [
    "# Loading Algorithm\n",
    "from sklearn.linear_model import LinearRegression\n",
    "# Regularization\n",
    "from sklearn.linear_model import Lasso \n",
    "from sklearn.linear_model import ElasticNet\n",
    "# Decision Tree\n",
    "from sklearn.tree import DecisionTreeRegressor\n",
    "# ENSEMBLE\n",
    "## Bagging\n",
    "from sklearn.ensemble import RandomForestRegressor \n",
    "from sklearn.ensemble import ExtraTreesRegressor\n",
    "## Boosting\n",
    "from sklearn.ensemble import AdaBoostRegressor\n",
    "from sklearn.ensemble import GradientBoostingRegressor\n",
    "# Support Vector Machine\n",
    "from sklearn.svm import SVR # K-Nearest Neighbor\n",
    "from sklearn.neighbors import KNeighborsRegressor\n",
    "# Multi-layer Perceptron (Neural Networks)\n",
    "from sklearn.neural_network import MLPRegressor\n",
    "# for data split\n",
    "from sklearn.model_selection import train_test_split\n",
    "# for cross-validation\n",
    "from sklearn.model_selection import cross_val_score \n",
    "from sklearn.model_selection import KFold\n",
    "from sklearn.model_selection import GridSearchCV\n",
    "# for assessment\n",
    "from sklearn.metrics import mean_squared_error\n",
    "# for Feature Selection\n",
    "from sklearn.feature_selection import chi2, f_regression\n",
    "from sklearn.feature_selection import SelectKBest"
   ]
  },
  {
   "cell_type": "code",
   "execution_count": 26,
   "metadata": {},
   "outputs": [],
   "source": [
    "import statsmodels.tsa.arima.model as stats \n",
    "import statsmodels.api as sm"
   ]
  },
  {
   "cell_type": "code",
   "execution_count": 27,
   "metadata": {},
   "outputs": [],
   "source": [
    "from pandas.plotting import scatter_matrix \n",
    "\n",
    "# for Pre-processing (Feature Engineering)\n",
    "from sklearn.preprocessing import StandardScaler\n",
    "# assumption checks for Time-Series\n",
    "from statsmodels.graphics.tsaplots import plot_acf"
   ]
  },
  {
   "cell_type": "markdown",
   "metadata": {},
   "source": [
    "## 👇 <font color = \"purple\"> Bigger Question 1. \n",
    "\n",
    "> Here's something that's familiar to you, with a few minor tweaks.\n",
    "\n",
    "### Please create a predictive model for the weekly return of AMZN stock. You will use supervised learning for your predictive modelling.\n",
    "\n",
    "> As you learned in class, to do this it is essential to know what factors are related to Amazon’s stock price, and to incorporate as much information as you can into the model.\n",
    "\n",
    "> Among the three major factors (correlated assets, technical indicators, and fundamental analysis), you will use correlated assets and technical indicators as features here.\n",
    "\n",
    "    Step 1. Use 75% of your data for the training of your algorithm, and 25% for the testing set.\n",
    "\n",
    "    Step 2. For your feature engineering...\n",
    "    \n",
    "> Our operational definition of `outcome` (`Y`) is the weekly return of Amazon (AMZN). The number of trading days in a week is assumed to be five, and we compute the return using five trading days. \n",
    "<br>\n",
    "    \n",
    "* <font color = \"green\"> NOTE: The lagged five-day variables embed the time series component by using a time-delay approach, where the lagged variable is included as one of the predictor variables. This step translates the time series data into a supervised regression-based model framework.\n",
    "<br>    \n",
    "    \n",
    "> For `input features` (`predictors`; `Xs`), we use (The variables used as predictors are as follows) ...\n",
    "\n",
    "> `Correlated assets`\n",
    "\n",
    "* lagged five-day returns of stocks (AAPL, MSFT, F);\n",
    "* currency exchange rates (USD/JPY and GBP/USD);\n",
    "* indices (S&P 500, Dow Jones, and VIX);\n",
    "* lagged five-day, 15-day, 30-day, and 60-day returns of AMZN.\n",
    "\n",
    "> `Technical indicators`\n",
    "\n",
    "* 21-day, 63-day, and 252-day moving averages;\n",
    "* 10-day, 30-day, and 200-day exponential moving averages.\n",
    "\n",
    "    \n",
    "    Step 3. For your algorithm of choices, please assess the model performance of the following algorithms: \n",
    "\n",
    "* Linear Regression\n",
    "* Elastic Net\n",
    "* LASSO\n",
    "* Support Vector Machine\n",
    "* K-Nearest Neighbor\n",
    "* ARIMA\n",
    "* Decision Tree\n",
    "* Extra Trees \n",
    "* Random Forest\n",
    "* Gradient Boosting Tree\n",
    "* Adaptive Boosting\n",
    "    \n",
    "    \n",
    "    Step 4. For this exercise, hyperparameter tuning won’t be requested. \n",
    "    \n",
    "    Step 5. But make sure to compare the model performance of the above algorithms.\n",
    "\n",
    "> The metric for assessing model performance will be mean squared error (`MSE`).\n",
    "<br>\n",
    "\n",
    "> Show which of the algorithms perform relatively better by a comparison visualization of performance, for both the training and testing sets learned in class. \n",
    "\n",
    "    Step 6. Using the model of your choice, please visualize the actual vs. predicted (estimated) data."
   ]
  },
  {
   "cell_type": "markdown",
   "metadata": {},
   "source": [
    "### Below are the lines of code that lead to an answer:"
   ]
  },
  {
   "cell_type": "code",
   "execution_count": 4,
   "metadata": {},
   "outputs": [
    {
     "name": "stderr",
     "output_type": "stream",
     "text": [
      "[*********************100%***********************]  4 of 4 completed\n"
     ]
    }
   ],
   "source": [
    "stock_ticker = ['AMZN', 'AAPL', 'MSFT', 'F']\n",
    "currency_ticker = ['DEXJPUS', 'DEXUSUK']\n",
    "index_ticker = [\"SP500\", \"DJIA\", \"VIXCLS\"]\n",
    "\n",
    "stock_data = yf.download(stock_ticker)\n",
    "currency_data = pdr.get_data_fred(currency_ticker)\n",
    "index_data = pdr.get_data_fred(index_ticker)"
   ]
  },
  {
   "cell_type": "markdown",
   "metadata": {},
   "source": [
    "> ## step 1\n",
    "> #### outcome Y(每周收益率,也是我们想要预测的值)"
   ]
  },
  {
   "cell_type": "code",
   "execution_count": 5,
   "metadata": {},
   "outputs": [],
   "source": [
    "Y =\\\n",
    "    (np\n",
    "    .log(stock_data.loc[ : , (\"Adj Close\", \"AMZN\")] )\n",
    "    .diff(5)\n",
    "    .shift(-5) )\n",
    "\n",
    "# Y"
   ]
  },
  {
   "cell_type": "code",
   "execution_count": 6,
   "metadata": {},
   "outputs": [],
   "source": [
    "Y.name =\\\n",
    "    (Y\n",
    "     .name[-1]\n",
    "     +\n",
    "     \"_pred\")\n",
    "\n",
    "# Y"
   ]
  },
  {
   "cell_type": "markdown",
   "metadata": {},
   "source": [
    "> #### input X(通过构建输入特征（X）和目标变量（Y）来预测每只股票的每周收益率)\n",
    "> #### X1：AMZN之外的其他股票（AAPL, MSFT, F）的滞后收益率："
   ]
  },
  {
   "cell_type": "code",
   "execution_count": 7,
   "metadata": {},
   "outputs": [],
   "source": [
    "X1 =\\\n",
    "    (np.\n",
    "    log(stock_data.loc[ : , (\"Adj Close\", ('AAPL', 'MSFT', 'F')\n",
    "                            )\n",
    "                      ]\n",
    "       )\n",
    "     .diff(5)\n",
    "    )\n",
    "\n",
    "X1.columns =\\\n",
    "    (X1\n",
    "     .columns\n",
    "     .droplevel()\n",
    "    )\n",
    "\n",
    "# X1"
   ]
  },
  {
   "cell_type": "markdown",
   "metadata": {},
   "source": [
    "> #### X2:外汇对（例如 USD/JPY 和 GBP/USD）的滞后收益率："
   ]
  },
  {
   "cell_type": "code",
   "execution_count": 8,
   "metadata": {},
   "outputs": [],
   "source": [
    "X2 =\\\n",
    "    (np\n",
    "    .log(currency_data)\n",
    "    .diff(5)\n",
    "    )\n",
    "\n",
    "# X2"
   ]
  },
  {
   "cell_type": "markdown",
   "metadata": {},
   "source": [
    "> #### X3:股市指数（例如 S&P 500、VIX、道琼斯指数）的滞后收益率：\n",
    "\"SP500\", \"DJIA\", \"VIXCLS\""
   ]
  },
  {
   "cell_type": "code",
   "execution_count": 9,
   "metadata": {},
   "outputs": [],
   "source": [
    "X3 =\\\n",
    "    (np\n",
    "    .log(index_data)\n",
    "    .diff(5)\n",
    "    )\n",
    "\n",
    "# X3"
   ]
  },
  {
   "cell_type": "markdown",
   "metadata": {},
   "source": [
    "> #### X4：AMZN股票的不同时间周期的滞后收益率，包括 5 天、15 天、30 天和 60 天："
   ]
  },
  {
   "cell_type": "code",
   "execution_count": 10,
   "metadata": {},
   "outputs": [],
   "source": [
    "X4 =\\\n",
    "    (\n",
    "    pd\n",
    "    .concat([np\n",
    "            .log(stock_data.loc[ : , (\"Adj Close\", \"AMZN\")\n",
    "                               ]\n",
    "                )\n",
    "            .diff(i) for i in [5,\n",
    "                               15,\n",
    "                               30,\n",
    "                               60]\n",
    "            ],\n",
    "            axis = 1\n",
    "           )\n",
    "    .dropna()\n",
    ")\n",
    "\n",
    "X4.columns = [\"AMZN_5\", \"AMZN_15\", \"AMZN_30\", \"AMZN_60\"]\n",
    "# X4"
   ]
  },
  {
   "cell_type": "code",
   "execution_count": 11,
   "metadata": {},
   "outputs": [],
   "source": [
    "X1.index = X1.index.tz_localize(None)\n",
    "X2.index = X2.index.tz_localize(None)\n",
    "X3.index = X3.index.tz_localize(None)\n",
    "X4.index = X4.index.tz_localize(None)\n",
    "\n",
    "X=\\\n",
    "(\n",
    "    pd\n",
    "    .concat([X1, X2, X3, X4],\n",
    "            axis = 1)\n",
    ")\n",
    "\n",
    "# X"
   ]
  },
  {
   "cell_type": "code",
   "execution_count": 12,
   "metadata": {},
   "outputs": [],
   "source": [
    "Y.index = Y.index.tz_localize(None)\n",
    "X.index = X.index.tz_localize(None)"
   ]
  },
  {
   "cell_type": "code",
   "execution_count": 13,
   "metadata": {},
   "outputs": [],
   "source": [
    "data =\\\n",
    "(\n",
    "    pd\n",
    "    .concat([Y, X],\n",
    "            axis = 1)\n",
    "    .dropna()\n",
    "    .iloc[ : :5, :]\n",
    ")\n",
    "# data"
   ]
  },
  {
   "cell_type": "code",
   "execution_count": 14,
   "metadata": {},
   "outputs": [],
   "source": [
    "Y = data.loc[ : , Y.name]\n",
    "# Y"
   ]
  },
  {
   "cell_type": "code",
   "execution_count": 15,
   "metadata": {},
   "outputs": [],
   "source": [
    "X = data.loc[ : , X.columns]\n",
    "# X"
   ]
  },
  {
   "cell_type": "code",
   "execution_count": 16,
   "metadata": {},
   "outputs": [],
   "source": [
    "validation_size = 0.25\n",
    "\n",
    "train_size =\\\n",
    "    int(len(X)\n",
    "        *\n",
    "        (1 - validation_size)\n",
    "       )\n",
    "\n",
    "X_train, X_test =\\\n",
    "    (X[0         :train_size],\n",
    "     X[train_size:len(X)    ]\n",
    "    )\n",
    "\n",
    "Y_train, Y_test =\\\n",
    "    (Y[0         :train_size],\n",
    "     Y[train_size:len(X)    ]\n",
    "    )"
   ]
  },
  {
   "cell_type": "markdown",
   "metadata": {},
   "source": [
    "> ## Step 2. moving averages AND exponential moving averages."
   ]
  },
  {
   "cell_type": "code",
   "execution_count": 20,
   "metadata": {},
   "outputs": [],
   "source": [
    "MA_21 = stock_data['Adj Close']['AMZN'].rolling(window=21).mean()\n",
    "MA_63 = stock_data['Adj Close']['AMZN'].rolling(window=63).mean()\n",
    "MA_252 = stock_data['Adj Close']['AMZN'].rolling(window=252).mean()\n",
    "\n",
    "EMA_10 = stock_data['Adj Close']['AMZN'].ewm(span=10, adjust=False).mean()\n",
    "EMA_30 = stock_data['Adj Close']['AMZN'].ewm(span=30, adjust=False).mean()\n",
    "EMA_200 = stock_data['Adj Close']['AMZN'].ewm(span=200, adjust=False).mean()\n",
    "\n",
    "X_technical = pd.concat([MA_21, MA_63, MA_252, EMA_10, EMA_30, EMA_200], axis=1)\n",
    "X_technical.columns = [\"MA_21\", \"MA_63\", \"MA_252\", \"EMA_10\", \"EMA_30\", \"EMA_200\"]"
   ]
  },
  {
   "cell_type": "code",
   "execution_count": 22,
   "metadata": {},
   "outputs": [],
   "source": [
    "X1.index = X1.index.tz_localize(None)\n",
    "X2.index = X2.index.tz_localize(None)\n",
    "X3.index = X3.index.tz_localize(None)\n",
    "X4.index = X4.index.tz_localize(None)\n",
    "X_technical.index = X_technical.index.tz_localize(None)\n",
    "\n",
    "X = pd.concat([X1, X2, X3, X4, X_technical], axis=1).dropna()"
   ]
  },
  {
   "cell_type": "markdown",
   "metadata": {},
   "source": [
    "> ## step3. model performance"
   ]
  },
  {
   "cell_type": "code",
   "execution_count": 32,
   "metadata": {},
   "outputs": [],
   "source": [
    "num_folds = 10  # 定义折数\n",
    "seed = 241001   # 随机种子\n",
    "scoring = 'neg_mean_squared_error'  # 评估标准\n",
    "\n",
    "models = []"
   ]
  },
  {
   "cell_type": "code",
   "execution_count": 33,
   "metadata": {},
   "outputs": [],
   "source": [
    "models.append((\"LR\", LinearRegression()\n",
    "              )\n",
    "             )\n",
    "\n",
    "models.append((\"LASSO\", Lasso()\n",
    "              )\n",
    "             )\n",
    "\n",
    "models.append((\"EN\", ElasticNet()\n",
    "              )\n",
    "             )\n",
    "\n",
    "models.append((\"CART\", DecisionTreeRegressor()\n",
    "              )\n",
    "             )\n",
    "\n",
    "models.append((\"KNN\", KNeighborsRegressor()\n",
    "              )\n",
    "             )\n",
    "\n",
    "models.append((\"SVR\", SVR()\n",
    "              )\n",
    "             )\n",
    "\n",
    "models.append((\"RFR\", RandomForestRegressor()\n",
    "              )\n",
    "             )\n",
    "\n",
    "models.append((\"GBR\", GradientBoostingRegressor()\n",
    "              )\n",
    "             )\n",
    "\n",
    "models.append((\"ABR\", AdaBoostRegressor()\n",
    "              )\n",
    "             )"
   ]
  },
  {
   "cell_type": "code",
   "execution_count": 34,
   "metadata": {},
   "outputs": [
    {
     "name": "stdout",
     "output_type": "stream",
     "text": [
      "LR: 0.002924 (0.000945) 0.002360 0.001696\n",
      "LASSO: 0.002592 (0.000868) 0.002554 0.001486\n",
      "EN: 0.002592 (0.000868) 0.002554 0.001486\n",
      "CART: 0.006305 (0.001534) 0.000000 0.003689\n",
      "KNN: 0.002966 (0.001303) 0.002042 0.001803\n",
      "SVR: 0.002968 (0.000865) 0.002472 0.001945\n",
      "RFR: 0.003075 (0.000970) 0.000440 0.001492\n",
      "GBR: 0.003808 (0.001244) 0.000230 0.001757\n",
      "ABR: 0.003062 (0.001028) 0.001299 0.001557\n"
     ]
    }
   ],
   "source": [
    "names = []\n",
    "kfold_results = []\n",
    "train_results = []\n",
    "test_results = []\n",
    "\n",
    "for name, model in models:\n",
    "    names.append(name)\n",
    "    \n",
    "    kfold =\\\n",
    "        (KFold(n_splits = num_folds,\n",
    "               random_state = seed,\n",
    "               shuffle = True)\n",
    "        )\n",
    "    \n",
    "    cv_results =\\\n",
    "        (\n",
    "         -1\n",
    "         *\n",
    "         cross_val_score(model, X_train, Y_train,\n",
    "                         cv = kfold,\n",
    "                         scoring = scoring)\n",
    "        )\n",
    "    \n",
    "    kfold_results.append(cv_results)\n",
    "    \n",
    "    res = model.fit(X_train, Y_train)\n",
    "    \n",
    "    train_result = mean_squared_error(res.predict(X_train), Y_train)\n",
    "    \n",
    "    train_results.append(train_result)\n",
    "    \n",
    "    test_result = mean_squared_error(res.predict(X_test), Y_test)\n",
    "\n",
    "    test_results.append(test_result)\n",
    "    \n",
    "    message = \"%s: %f (%f) %f %f\" % (name, cv_results.mean(),\n",
    "                                     cv_results.std(),\n",
    "                                     train_result,\n",
    "                                     test_result)\n",
    "    print(message)"
   ]
  },
  {
   "cell_type": "code",
   "execution_count": 35,
   "metadata": {},
   "outputs": [
    {
     "data": {
      "image/png": "[encoded data removed]",
      "text/plain": [
       "<Figure size 640x480 with 1 Axes>"
      ]
     },
     "metadata": {},
     "output_type": "display_data"
    }
   ],
   "source": [
    "plt.boxplot(kfold_results, labels=names)\n",
    "plt.title('Model Comparison')\n",
    "plt.ylabel('Mean Squared Error (MSE)')\n",
    "plt.show()"
   ]
  },
  {
   "cell_type": "markdown",
   "metadata": {},
   "source": [
    "> ## step 6"
   ]
  },
  {
   "cell_type": "code",
   "execution_count": null,
   "metadata": {},
   "outputs": [],
   "source": [
    "best_model = RandomForestRegressor()\n",
    "best_model.fit(X_train, Y_train)\n",
    "Y_pred = best_model.predict(X_test)"
   ]
  },
  {
   "cell_type": "code",
   "execution_count": null,
   "metadata": {},
   "outputs": [],
   "source": [
    "plt.figure(figsize=(10,6))\n",
    "plt.plot(Y_test.values, label=\"Actual\")\n",
    "plt.plot(Y_pred, label=\"Predicted\")\n",
    "plt.title(\"Actual vs Predicted\")\n",
    "plt.legend()\n",
    "plt.show()"
   ]
  },
  {
   "cell_type": "markdown",
   "metadata": {},
   "source": [
    "### <font color = red> Answer 1 is presented in the cell below: </font>"
   ]
  },
  {
   "cell_type": "code",
   "execution_count": null,
   "metadata": {},
   "outputs": [],
   "source": []
  },
  {
   "cell_type": "markdown",
   "metadata": {},
   "source": [
    "## <font color = blue> 👉 Questions 2 to 5 ask you to build, execute, and backtest a mean-reversion strategy, using `Relative Strength Index` (`RSI`). </font>\n",
    "\n",
    "#### The Relative Strength Index (RSI) is an indicator that uses the closing prices of an asset to identify oversold and overbought conditions. \n",
    "\n",
    "> Most commonly, RSI is calculated using a 14-day period, and measured on a scale from zero to 100. (It is an oscillator.)\n",
    "\n",
    "> Traders usually buy an asset when it is oversold (when its RSI is below 30) and sell when it is overbought (when its RSI is above 70). \n",
    "\n",
    "> More extreme overbought and oversold levels, such as 80 and 20, are used less frequently, and imply stronger momentum.\n",
    "\n",
    "#### You are asked to build a trading strategy with the following set of rules.\n",
    "\n",
    "### <font color = green> NOTE: Apple (`AAPL`) as our security of interest. The `investment horizon` will be three years between 2015 and 2017; your `capital` is USD 100,000; and there is a USD 5 flat `commission fee` per trade.\n",
    "\n",
    "- You can go long and short.\n",
    "<br>\n",
    "\n",
    "- To calculate RSI, use 14 periods (trading days).\n",
    "<br>\n",
    "\n",
    "- Enter a long position if RSI crosses the lower threshold (standard value of 30), moving upwards. Exit the position when RSI becomes higher than the middle level (value of 50).\n",
    "<br>\n",
    "\n",
    "- Enter a short position if RSI crosses the upper threshold (standard value of 70), moving downwards. Exit the position when RSI becomes less than 50.\n",
    "<br>\n",
    "\n",
    "- Only one position can be open at a time.\n",
    "\n",
    "### <font color = green> NOTE: The RSI is defined as follows:\n",
    "    \n",
    "### Calculating the RSI first requires the RS which requires an average value of n-many previous trading days. \n",
    "<br>\n",
    "    \n",
    "- As discussed, a value of 14 days is common for the RSI calculation. \n",
    "<br>\n",
    "    \n",
    "- The first RS value requires the price from all 14 of the first trading days. Often, this is a source of confusion with the RSI given successive values only require the most recent. \n",
    "   \n",
    "    \n",
    "    Step 1. For 14 periods, calculate the difference in price from the current period and the previous period\n",
    "    \n",
    "    Step 2. For each period, record each positive change in price as a gain and each negative change as a loss\n",
    "    \n",
    "    Step 3. On the 14th period, calculate the arithmetic mean of the gains and losses for the entire 14 day period (e.g. gains / 14 & losses / 14)\n",
    "    \n",
    "    Step 4. Use these values to calculate the RS\n",
    "    \n",
    "### <center> $ RS = \\frac{AverageGain}{AverageLoss} $\n",
    "    \n",
    "    Step 5. Use the RS value to calculate the RSI\n",
    "    \n",
    "    Step 6. For each proceeding period, use only the previous RSI value to calculate the next average value \n",
    "    by multiplying by our lookback period – 1 (e.g., 13 for a lookback of 14).\n",
    "    \n",
    "    Step 7. Add the value obtained in Step 6 to the current day’s value (run this for both the gains and losses)\n",
    "    \n",
    "### <center> $ RSI = 100 - \\frac{100}{1 + RS} $\n",
    "\n",
    "### Visualize your buy and sell positions."
   ]
  },
  {
   "cell_type": "markdown",
   "metadata": {},
   "source": [
    "### Below are the lines of code that lead to an answer:"
   ]
  },
  {
   "cell_type": "code",
   "execution_count": null,
   "metadata": {},
   "outputs": [],
   "source": []
  },
  {
   "cell_type": "markdown",
   "metadata": {},
   "source": [
    "### <font color = red> Answer 2 is presented in the cell below: </font>"
   ]
  },
  {
   "cell_type": "code",
   "execution_count": null,
   "metadata": {},
   "outputs": [],
   "source": []
  },
  {
   "cell_type": "markdown",
   "metadata": {},
   "source": [
    "### <font color = blue> 👉 Question 3</font>. How much in cumulative returns could you have had as a result of the RSI strategy?"
   ]
  },
  {
   "cell_type": "markdown",
   "metadata": {},
   "source": [
    "### Below are the lines of code that lead to an answer:"
   ]
  },
  {
   "cell_type": "code",
   "execution_count": null,
   "metadata": {},
   "outputs": [],
   "source": []
  },
  {
   "cell_type": "markdown",
   "metadata": {},
   "source": [
    "### <font color = red> Answer 3 </font>\n",
    "\n",
    "    The answer is ____________ % ."
   ]
  },
  {
   "cell_type": "markdown",
   "metadata": {},
   "source": [
    "### <font color = blue> 👉 Question 4</font>. Now please find the `five` worst drawdown periods over the investment horizon and provide their net drawdown in % and duration, respectively.\n",
    "\n",
    "### <font color = green> The question asks you to find the five worst drawdown periods, beyond identifying max drawdown (MDD)."
   ]
  },
  {
   "cell_type": "markdown",
   "metadata": {},
   "source": [
    "### Below are the lines of code that lead to an answer:"
   ]
  },
  {
   "cell_type": "code",
   "execution_count": null,
   "metadata": {},
   "outputs": [],
   "source": []
  },
  {
   "cell_type": "markdown",
   "metadata": {},
   "source": [
    "### <font color = red> Answer 4 </font>\n",
    "\n",
    "    The Worst drawdown period     : Net drawdown ____________ % | Duration ____________ Days\n",
    "    \n",
    "    The 2nd worst drawdown period : Net drawdown ____________ % | Duration ____________ Days\n",
    "     \n",
    "    The 3rd worst drawdown period : Net drawdown ____________ % | Duration ____________ Days\n",
    "         \n",
    "    The 4th worst drawdown period : Net drawdown ____________ % | Duration ____________ Days\n",
    "    \n",
    "    The 5th worst drawdown period : Net drawdown ____________ % | Duration ____________ Days"
   ]
  },
  {
   "cell_type": "markdown",
   "metadata": {},
   "source": [
    "### <font color = blue> 👉 Question 5</font>. Within the investment horizon, please calculate annual returns for each of the three years and then find the year that performs better than average vs. less than average annual returns."
   ]
  },
  {
   "cell_type": "markdown",
   "metadata": {},
   "source": [
    "### Below are the lines of code that lead to an answer:"
   ]
  },
  {
   "cell_type": "code",
   "execution_count": null,
   "metadata": {},
   "outputs": [],
   "source": []
  },
  {
   "cell_type": "markdown",
   "metadata": {},
   "source": [
    "### <font color = red> Answer 5 </font>\n",
    "\n",
    "    Below average year(s) : ____________ \n",
    "    \n",
    "    Above average year(s) : ____________ \n",
    "     "
   ]
  },
  {
   "cell_type": "markdown",
   "metadata": {},
   "source": [
    "###  <font color = blue> 👉 Question 6. </font> What's the annualized Sharpe ratio of the current investment strategy?"
   ]
  },
  {
   "cell_type": "markdown",
   "metadata": {},
   "source": [
    "### Below are the lines of code that lead to an answer:"
   ]
  },
  {
   "cell_type": "code",
   "execution_count": null,
   "metadata": {},
   "outputs": [],
   "source": []
  },
  {
   "cell_type": "markdown",
   "metadata": {},
   "source": [
    "### <font color = red> Answer 6 </font>\n",
    "    \n",
    "    Sharpe ratio: __________\n",
    "    "
   ]
  },
  {
   "cell_type": "markdown",
   "metadata": {},
   "source": [
    "## 👇 <font color = \"purple\"> Bigger Question 7. ### \n",
    "\n",
    "### This bigger question is where you will execute a principal component analysis (PCA) based portfolio for asset allocation. \n",
    "<br>\n",
    "    \n",
    "### Go to [the list of SP 500 companies on Wikipedia](https://en.wikipedia.org/wiki/List_of_S%26P_500_companies).\n",
    "    \n",
    "    Step 1: Among the securities added to the S&P 500 component before January 2000, select the first 30 stocks. \n",
    "    \n",
    "    Step 2: Your objective is to find the portfolio using PCA. Using what you learned in class, \n",
    "    identify the profile of each portfolio. \n",
    "    \n",
    "    Step 3: Then backtest the performance of your portfolio, relative to the equal weight portfolio. \n",
    "    Here, as you learned in class, use 80% of your data for PCA and 20% for backtesting.\n",
    "    \n",
    "### <font color = \"green\"> NOTE: The investment horizon will be 20 years between 2000 and 2019    "
   ]
  },
  {
   "cell_type": "markdown",
   "metadata": {},
   "source": [
    "### Below are the lines of code that lead to an answer:"
   ]
  },
  {
   "cell_type": "code",
   "execution_count": null,
   "metadata": {},
   "outputs": [],
   "source": []
  },
  {
   "cell_type": "markdown",
   "metadata": {},
   "source": [
    "### <font color = red> Answer 7 is presented in the cell below: </font>"
   ]
  },
  {
   "cell_type": "code",
   "execution_count": null,
   "metadata": {},
   "outputs": [],
   "source": []
  },
  {
   "cell_type": "markdown",
   "metadata": {},
   "source": [
    "> 💯 “Thank you for putting your efforts into the individual assessment questions” 😊"
   ]
  }
 ],
 "metadata": {
  "kernelspec": {
   "display_name": "Python 3 (ipykernel)",
   "language": "python",
   "name": "python3"
  },
  "language_info": {
   "codemirror_mode": {
    "name": "ipython",
    "version": 3
   },
   "file_extension": ".py",
   "mimetype": "text/x-python",
   "name": "python",
   "nbconvert_exporter": "python",
   "pygments_lexer": "ipython3",
   "version": "3.9.13"
  }
 },
 "nbformat": 4,
 "nbformat_minor": 4
}
